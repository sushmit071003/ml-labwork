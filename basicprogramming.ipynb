{
  "nbformat": 4,
  "nbformat_minor": 0,
  "metadata": {
    "colab": {
      "provenance": [],
      "authorship_tag": "ABX9TyOrfD+AAZMv5erjZaCAEB95",
      "include_colab_link": true
    },
    "kernelspec": {
      "name": "python3",
      "display_name": "Python 3"
    },
    "language_info": {
      "name": "python"
    }
  },
  "cells": [
    {
      "cell_type": "markdown",
      "metadata": {
        "id": "view-in-github",
        "colab_type": "text"
      },
      "source": [
        "<a href=\"https://colab.research.google.com/github/sushmit071003/ml-labwork/blob/main/basicprogramming.ipynb\" target=\"_parent\"><img src=\"https://colab.research.google.com/assets/colab-badge.svg\" alt=\"Open In Colab\"/></a>"
      ]
    },
    {
      "cell_type": "code",
      "execution_count": 1,
      "metadata": {
        "colab": {
          "base_uri": "https://localhost:8080/"
        },
        "id": "o8JNcPh_I11N",
        "outputId": "f42761e8-7606-438f-810c-846404b07ae4"
      },
      "outputs": [
        {
          "output_type": "stream",
          "name": "stdout",
          "text": [
            "Enter the number : 2\n",
            "2  x  1  =  2\n",
            "2  x  2  =  4\n",
            "2  x  3  =  6\n",
            "2  x  4  =  8\n",
            "2  x  5  =  10\n",
            "2  x  6  =  12\n",
            "2  x  7  =  14\n",
            "2  x  8  =  16\n",
            "2  x  9  =  18\n",
            "2  x  10  =  20\n"
          ]
        }
      ],
      "source": [
        "x = int(input(\"Enter the number : \"))\n",
        "for i in range (1,11):\n",
        "  print(x,\" x \",i,\" = \",x*i)"
      ]
    },
    {
      "cell_type": "code",
      "source": [
        "fruits = [\"Apple\",\"Banana\",\"Pineapple\",\"Papaya\",\"Orange\"]\n",
        "OddL = []\n",
        "newL = []\n",
        "for i in fruits :\n",
        "  if 'p' in i:\n",
        "    newL.append(i)\n",
        "  else :\n",
        "    OddL.append(i)\n",
        "print(\"fruits is : \",fruits)\n",
        "print(\"newL is : \",newL)\n",
        "print(\"OddL is : \",OddL)"
      ],
      "metadata": {
        "colab": {
          "base_uri": "https://localhost:8080/"
        },
        "id": "H_edt21pJDj7",
        "outputId": "7d4a47a8-ed8f-4ac4-8c69-704639b6dc63"
      },
      "execution_count": 2,
      "outputs": [
        {
          "output_type": "stream",
          "name": "stdout",
          "text": [
            "fruits is :  ['Apple', 'Banana', 'Pineapple', 'Papaya', 'Orange']\n",
            "newL is :  ['Apple', 'Pineapple', 'Papaya']\n",
            "OddL is :  ['Banana', 'Orange']\n"
          ]
        }
      ]
    },
    {
      "cell_type": "code",
      "source": [
        "marks = (18,19,15,20)\n",
        "print(marks[1:4])\n",
        "print(marks[:4])\n",
        "print(marks[::-1])\n",
        "print(marks[:-2])"
      ],
      "metadata": {
        "colab": {
          "base_uri": "https://localhost:8080/"
        },
        "id": "sHWq8U-KJJaD",
        "outputId": "af200f4c-ca81-43e6-d402-605a18b41082"
      },
      "execution_count": 3,
      "outputs": [
        {
          "output_type": "stream",
          "name": "stdout",
          "text": [
            "(19, 15, 20)\n",
            "(18, 19, 15, 20)\n",
            "(20, 15, 19, 18)\n",
            "(18, 19)\n"
          ]
        }
      ]
    }
  ]
}